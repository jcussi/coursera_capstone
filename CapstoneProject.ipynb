{
 "metadata": {
  "language_info": {
   "codemirror_mode": {
    "name": "ipython",
    "version": 3
   },
   "file_extension": ".py",
   "mimetype": "text/x-python",
   "name": "python",
   "nbconvert_exporter": "python",
   "pygments_lexer": "ipython3",
   "version": "3.8.3-final"
  },
  "orig_nbformat": 2,
  "kernelspec": {
   "name": "python383jvsc74a57bd065ad4fffd8daf844b80d1345c053e2916d18db7bceb95c1aa2720037955ffba8",
   "display_name": "Python 3.8.3 64-bit (conda)"
  }
 },
 "nbformat": 4,
 "nbformat_minor": 2,
 "cells": [
  {
   "source": [
    "# IBM - Applied Data Science Capstone\n",
    "## Jhimy Daniel Cussi Cruz\n",
    "\n",
    "### This final project is inspired by learning and obtaining the certificate in Data Science.\n",
    "\n",
    "## Case Study:\n",
    "Our client wishes to implement a restaurant in New York city, the requirement is to determine the appropriate location which can guarantee the success of the business, our client considers the following aspects important: First, the existence of at least one market where the restaurant could be able to be supplied with raw materials at a low price, which means great cost savings, also guarantee the influx of public (customers) and finally determine if there is competition in the market.\n",
    "\n",
    "### Objetive:\n",
    "Recommend the appropriate location to create a new restaurant in New York City, in order to guarantee the success of the business.\n"
   ],
   "cell_type": "markdown",
   "metadata": {}
  },
  {
   "source": [
    "## Data\n",
    "\n",
    "Source: https://simplemaps.com/data/us-zips\n",
    "\n",
    "Data: US Zip Codes Database \n",
    "\n",
    "Fields:\n",
    "\n",
    "| fieldname | description |\n",
    "| --- | --- |\n",
    "| zip | The 5-digit zip code assigned by the U.S. Postal Service. |\n",
    "| lat | The latitude of the zip code (learn more). \t\t\t\n",
    "| lng | The longitude of the zip code (learn more). \t\t\t\n",
    "| city | The official USPS city name. \t\t\t\n",
    "| state_id | The official USPS state abbreviation. \t\t\t\n",
    "| state_name | The state's name. \t\t\t\n",
    "| zcta | TRUE if the zip code is a Zip Code Tabulation area (learn more). \t\t\t\n",
    "| parent_zcta | The ZCTA that contains this zip code. Only exists if zcta is FALSE. Useful for making inferences about a zip codes that is a point from the ZCTA that contains it. \t\t\t\n",
    "| population | An estimate of the zip code's population. Only exists if zcta is TRUE. \t\t\t\n",
    "| density | The estimated population per square kilometer. Only exists if zcta is TRUE. \t\t\t\n",
    "| county_fips | The zip's primary county in the FIPS format. \t\t\t\n",
    "| county_name | The name of the county_fips. \t\t\t\n",
    "| county_weights | A JSON dictionary listing all county_fips and their weights (by population) associated with the zip code. \t\t\t\n",
    "| imprecise | TRUE if the lat/lng has been geolocated using the city (rare). \t\t\t\n",
    "| military | TRUE if the zip code is used by the US Military (lat/lng not available). \t\t\t\n",
    "| timezone | The city's time zone in the tz database format. (e.g. America/Los_Angeles)\n",
    "\n",
    "We will work with data such as zipcode, population, density, longitude, latitude, city and state, which will be complemented with the information provided by Foursquare that will allow us to determine or recommend the appropriate location to implement the restaurant in New York City.\n"
   ],
   "cell_type": "markdown",
   "metadata": {}
  },
  {
   "cell_type": "code",
   "execution_count": 2,
   "metadata": {},
   "outputs": [],
   "source": [
    "import pandas as pd\n",
    "import numpy as np"
   ]
  },
  {
   "cell_type": "code",
   "execution_count": 3,
   "metadata": {},
   "outputs": [
    {
     "output_type": "stream",
     "name": "stdout",
     "text": [
      "Hello Capstone Project Course!\n"
     ]
    }
   ],
   "source": [
    "print('Hello Capstone Project Course!')"
   ]
  }
 ]
}